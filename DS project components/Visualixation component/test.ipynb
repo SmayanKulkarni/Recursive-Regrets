{
 "cells": [
  {
   "cell_type": "code",
   "execution_count": 1,
   "metadata": {},
   "outputs": [],
   "source": [
    "import os\n",
    "from dotenv import load_dotenv\n",
    "\n",
    "# Load environment variables\n",
    "load_dotenv(r\"C:\\Users\\lamaq\\OneDrive\\Desktop\\DS project components\\.env\")\n",
    "groq_api_key = os.getenv('GROQ_API_KEY')\n",
    "os.environ['GROQ_API_KEY'] = groq_api_key"
   ]
  },
  {
   "cell_type": "code",
   "execution_count": 3,
   "metadata": {},
   "outputs": [],
   "source": [
    "from langchain_groq import ChatGroq\n",
    "\n",
    "llm = ChatGroq(\n",
    "    api_key=groq_api_key,\n",
    "    model=\"llama-3.3-70b-versatile\",\n",
    "    temperature=0.8,\n",
    "    max_tokens=1028,\n",
    "    max_retries=2,\n",
    "    verbose=True,\n",
    ")"
   ]
  },
  {
   "cell_type": "code",
   "execution_count": 8,
   "metadata": {},
   "outputs": [
    {
     "data": {
      "text/plain": [
       "'               Age            Cabin Embarked        Fare              Name       Parch  PassengerId      Pclass   Sex       SibSp  Survived    Ticket Title  Family_Size\\ncount   418.000000               91      418  418.000000               418  418.000000   418.000000  418.000000   418  418.000000       0.0       418   418   418.000000\\nunique         NaN               76        3         NaN               418         NaN          NaN         NaN     2         NaN       NaN       363     6          NaN\\ntop            NaN  B57 B59 B63 B66        S         NaN  Kelly, Mr. James         NaN          NaN         NaN  male         NaN       NaN  PC 17608    Mr          NaN\\nfreq           NaN                3      270         NaN                 1         NaN          NaN         NaN   266         NaN       NaN         5   242          NaN\\nmean     29.812201              NaN      NaN   35.561214               NaN    0.392344  1100.500000    2.265550   NaN    0.447368       NaN       NaN   NaN     0.839713\\nstd      13.006431              NaN      NaN   55.856789               NaN    0.981429   120.810458    0.841838   NaN    0.896760       NaN       NaN   NaN     1.519072\\nmin       0.170000              NaN      NaN    0.000000               NaN    0.000000   892.000000    1.000000   NaN    0.000000       NaN       NaN   NaN     0.000000\\n25%      22.000000              NaN      NaN    7.895800               NaN    0.000000   996.250000    1.000000   NaN    0.000000       NaN       NaN   NaN     0.000000\\n50%      30.000000              NaN      NaN   14.454200               NaN    0.000000  1100.500000    3.000000   NaN    0.000000       NaN       NaN   NaN     0.000000\\n75%      35.875000              NaN      NaN   31.471875               NaN    0.000000  1204.750000    3.000000   NaN    1.000000       NaN       NaN   NaN     1.000000\\nmax      76.000000              NaN      NaN  512.329200               NaN    9.000000  1309.000000    3.000000   NaN    8.000000       NaN       NaN   NaN    10.000000'"
      ]
     },
     "execution_count": 8,
     "metadata": {},
     "output_type": "execute_result"
    }
   ],
   "source": [
    "import pandas as pd\n",
    "\n",
    "uploaded_file = \"test_clean.csv\"\n",
    "dataset = pd.read_csv(uploaded_file)\n",
    "dataset_summary = dataset.describe(include=\"all\").to_string()\n",
    "dataset_summary"
   ]
  },
  {
   "cell_type": "code",
   "execution_count": null,
   "metadata": {},
   "outputs": [],
   "source": []
  },
  {
   "cell_type": "code",
   "execution_count": 12,
   "metadata": {},
   "outputs": [],
   "source": [
    "from langchain_core.prompts import PromptTemplate\n",
    "from langchain_core.output_parsers import StrOutputParser\n",
    "\n",
    "prompt_template = \"\"\"\n",
    "You are an expert Python data visualization developer. Your task is to generate Python code for a clean and functional data visualization based on the following input:\n",
    "\n",
    "Features: {features}\n",
    "Dataset summary: {dataset_summary}\n",
    "Visualization type: {visualization_type}\n",
    "\n",
    "Requirements:\n",
    "1. The code must assume the dataset is already loaded into a variable called 'dataset'.\n",
    "2. Ensure the code uses matplotlib or seaborn.\n",
    "3. Handle edge cases like missing columns or empty datasets with error checks.\n",
    "4. Return only the Python code block that can be executed directly without any additional modifications.\n",
    "5. Do not include any additional text, comments, or triple backticks in your response.\n",
    "\"\"\"\n",
    "\n",
    "prompt = PromptTemplate(input_variables=[\"features\", \"dataset_summary\", \"visualization_type\"], template=prompt_template)\n",
    "output_parser = StrOutputParser()\n",
    "chain = prompt | llm |output_parser"
   ]
  },
  {
   "cell_type": "code",
   "execution_count": 13,
   "metadata": {},
   "outputs": [
    {
     "data": {
      "text/plain": [
       "'```python\\nimport matplotlib.pyplot as plt\\nimport seaborn as sns\\nimport pandas as pd\\n\\ndef visualize_pclass_based_on_sex(dataset):\\n    if not isinstance(dataset, pd.DataFrame):\\n        raise ValueError(\"Dataset must be a pandas DataFrame\")\\n\\n    required_columns = [\\'Pclass\\', \\'Sex\\']\\n    if not all(column in dataset.columns for column in required_columns):\\n        raise ValueError(\"Dataset is missing required columns\")\\n\\n    if dataset.empty:\\n        raise ValueError(\"Dataset is empty\")\\n\\n    pclass_counts = dataset.groupby([\\'Sex\\', \\'Pclass\\']).size().reset_index(name=\\'count\\')\\n    pclass_pivot = pclass_counts.pivot(index=\\'Sex\\', columns=\\'Pclass\\', values=\\'count\\')\\n\\n    plt.figure(figsize=(10,6))\\n    sns.countplot(x=\\'Pclass\\', hue=\\'Sex\\', data=dataset)\\n    plt.title(\\'Pclass based on Sex\\')\\n    plt.xlabel(\\'Pclass\\')\\n    plt.ylabel(\\'Count\\')\\n    plt.legend(title=\\'Sex\\')\\n    plt.show()\\n\\nvisualize_pclass_based_on_sex(dataset)\\n```'"
      ]
     },
     "execution_count": 13,
     "metadata": {},
     "output_type": "execute_result"
    }
   ],
   "source": [
    "response = chain.invoke({\"features\" : \"Pclass based on sex\" , \"dataset_summary\": dataset_summary , \"visualization_type\" : \"Bar Chart\"})\n",
    "response"
   ]
  },
  {
   "cell_type": "code",
   "execution_count": 16,
   "metadata": {},
   "outputs": [],
   "source": [
    "import re\n",
    "\n",
    "# Using re.sub to remove ```python and ```\n",
    "cleaned_code = re.sub(r'^```python|```$', '', response, flags=re.MULTILINE)\n"
   ]
  },
  {
   "cell_type": "code",
   "execution_count": 18,
   "metadata": {},
   "outputs": [
    {
     "data": {
      "image/png": "[encoded data removed]",
      "text/plain": [
       "<Figure size 1000x600 with 1 Axes>"
      ]
     },
     "metadata": {},
     "output_type": "display_data"
    }
   ],
   "source": [
    "exec(cleaned_code)"
   ]
  }
 ],
 "metadata": {
  "kernelspec": {
   "display_name": ".venv",
   "language": "python",
   "name": "python3"
  },
  "language_info": {
   "codemirror_mode": {
    "name": "ipython",
    "version": 3
   },
   "file_extension": ".py",
   "mimetype": "text/x-python",
   "name": "python",
   "nbconvert_exporter": "python",
   "pygments_lexer": "ipython3",
   "version": "3.11.9"
  }
 },
 "nbformat": 4,
 "nbformat_minor": 2
}
